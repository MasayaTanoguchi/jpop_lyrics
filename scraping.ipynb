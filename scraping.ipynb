{
 "cells": [
  {
   "cell_type": "markdown",
   "metadata": {},
   "source": [
    "##### J-POP 年代別　歌詞抽出"
   ]
  },
  {
   "cell_type": "code",
   "execution_count": 2,
   "metadata": {},
   "outputs": [],
   "source": [
    "import pandas as pd\n",
    "import numpy as np\n",
    "import requests\n",
    "import re\n",
    "import urllib\n",
    "import time\n",
    "from bs4 import BeautifulSoup"
   ]
  },
  {
   "cell_type": "markdown",
   "metadata": {},
   "source": [
    "　"
   ]
  },
  {
   "cell_type": "markdown",
   "metadata": {},
   "source": [
    "#### STEP1:ダウンロード数ランキング"
   ]
  },
  {
   "cell_type": "code",
   "execution_count": 12,
   "metadata": {},
   "outputs": [],
   "source": [
    "years = [year for year in range(2010,2020)]"
   ]
  },
  {
   "cell_type": "code",
   "execution_count": 13,
   "metadata": {},
   "outputs": [],
   "source": [
    "for (i,year) in enumerate(years):\n",
    "    url = 'https://nendai-ryuukou.com/%s/download.html'%year\n",
    "\n",
    "    r = requests.get(url)\n",
    "    content_type_encoding = r.encoding if r.encoding != 'ISO-8859-1' else None\n",
    "    soup = BeautifulSoup(r.content, 'html.parser', from_encoding=content_type_encoding)\n",
    "\n",
    "    text = soup.text\n",
    "\n",
    "    idx_s = text.find('アーティスト')\n",
    "    text = text[idx_s:]\n",
    "    idx_e = text.find('google')\n",
    "    text = text[:idx_e]\n",
    "\n",
    "    pattern = '\\d\\\\d位'\n",
    "    text = re.sub(pattern, '',text)\n",
    "\n",
    "    text_split = text.split('\\n')\n",
    "    extract = [t for t in text_split if t != ''][1:-1]\n",
    "\n",
    "    n = int(len(extract)/2)\n",
    "    songs = extract[::2]\n",
    "    artists = extract[1::2]\n",
    "    order = [i+1 for i in range(n)]\n",
    "    year_list = [year for i in range(n)]\n",
    "\n",
    "\n",
    "    df_extract = pd.DataFrame({'year':year_list,'order':order,'artists':artists,'songs':songs})\n",
    "    if i == 0:\n",
    "        df_extract_tol = df_extract\n",
    "    else:\n",
    "        df_extract_tol = pd.concat([df_extract_tol,df_extract])\n",
    "    time.sleep(1)"
   ]
  },
  {
   "cell_type": "code",
   "execution_count": 14,
   "metadata": {},
   "outputs": [
    {
     "data": {
      "text/html": [
       "<div>\n",
       "<style scoped>\n",
       "    .dataframe tbody tr th:only-of-type {\n",
       "        vertical-align: middle;\n",
       "    }\n",
       "\n",
       "    .dataframe tbody tr th {\n",
       "        vertical-align: top;\n",
       "    }\n",
       "\n",
       "    .dataframe thead th {\n",
       "        text-align: right;\n",
       "    }\n",
       "</style>\n",
       "<table border=\"1\" class=\"dataframe\">\n",
       "  <thead>\n",
       "    <tr style=\"text-align: right;\">\n",
       "      <th></th>\n",
       "      <th>year</th>\n",
       "      <th>order</th>\n",
       "      <th>artists</th>\n",
       "      <th>songs</th>\n",
       "    </tr>\n",
       "  </thead>\n",
       "  <tbody>\n",
       "    <tr>\n",
       "      <th>0</th>\n",
       "      <td>2010</td>\n",
       "      <td>1</td>\n",
       "      <td>木村カエラ</td>\n",
       "      <td>Butterfly</td>\n",
       "    </tr>\n",
       "    <tr>\n",
       "      <th>1</th>\n",
       "      <td>2010</td>\n",
       "      <td>2</td>\n",
       "      <td>Superfly</td>\n",
       "      <td>タマシイレボリューション</td>\n",
       "    </tr>\n",
       "    <tr>\n",
       "      <th>2</th>\n",
       "      <td>2010</td>\n",
       "      <td>3</td>\n",
       "      <td>AKB48</td>\n",
       "      <td>ポニーテールとシュシュ</td>\n",
       "    </tr>\n",
       "    <tr>\n",
       "      <th>3</th>\n",
       "      <td>2010</td>\n",
       "      <td>4</td>\n",
       "      <td>斉藤 和義</td>\n",
       "      <td>ずっと好きだった</td>\n",
       "    </tr>\n",
       "    <tr>\n",
       "      <th>4</th>\n",
       "      <td>2010</td>\n",
       "      <td>5</td>\n",
       "      <td>AKB48</td>\n",
       "      <td>ヘビーローテーション</td>\n",
       "    </tr>\n",
       "  </tbody>\n",
       "</table>\n",
       "</div>"
      ],
      "text/plain": [
       "   year  order   artists         songs\n",
       "0  2010      1     木村カエラ     Butterfly\n",
       "1  2010      2  Superfly  タマシイレボリューション\n",
       "2  2010      3     AKB48   ポニーテールとシュシュ\n",
       "3  2010      4     斉藤 和義      ずっと好きだった\n",
       "4  2010      5     AKB48    ヘビーローテーション"
      ]
     },
     "execution_count": 14,
     "metadata": {},
     "output_type": "execute_result"
    }
   ],
   "source": [
    "df_extract_tol.head()"
   ]
  },
  {
   "cell_type": "code",
   "execution_count": 15,
   "metadata": {},
   "outputs": [],
   "source": [
    "df_extract_tol = df_extract_tol[df_extract_tol.order<=20]"
   ]
  },
  {
   "cell_type": "markdown",
   "metadata": {},
   "source": [
    "　"
   ]
  },
  {
   "cell_type": "code",
   "execution_count": null,
   "metadata": {},
   "outputs": [],
   "source": []
  },
  {
   "cell_type": "markdown",
   "metadata": {},
   "source": [
    "#### STEP2：歌詞の抽出"
   ]
  },
  {
   "cell_type": "code",
   "execution_count": 16,
   "metadata": {},
   "outputs": [
    {
     "name": "stdout",
     "output_type": "stream",
     "text": [
      "(200, 4)\n"
     ]
    }
   ],
   "source": [
    "df = df_extract_tol.copy()\n",
    "print(df.shape)"
   ]
  },
  {
   "cell_type": "markdown",
   "metadata": {},
   "source": [
    " "
   ]
  },
  {
   "cell_type": "code",
   "execution_count": 78,
   "metadata": {},
   "outputs": [
    {
     "name": "stdout",
     "output_type": "stream",
     "text": [
      "木村カエラ Butterfly　\n",
      "sleep...ready?\n",
      "Superfly スタンドアップ!モン\n",
      "AKB48 カレンダーより早く \n",
      "AKB48 I want you\n",
      "FUNKY MONKEY BABYS こぼれ落ちるその涙が\n",
      "坂本冬美 朝露が招く　光を浴び\n",
      "木村カエラ ring a din\n",
      "EXILE いつでも人は悲しみを\n",
      "sleep...ready?\n",
      "moumoon キラキラ　陽差しを浴\n",
      "FUNKY MONKEY BABYS あと一粒の涙で　ひと\n",
      "KARA la la la l\n",
      "Superfly 果てまで続く　坂道を\n",
      "FUNKY MONKEY BABYS あなたが笑ってて　あ\n",
      "FUNKY MONKEY BABYS 最寄り駅の改札抜けれ\n",
      "sleep...ready?\n",
      "KARA la la la l\n",
      "KARA Jumpin' Ju\n",
      "Mr.Children かぞえうた さぁ な\n",
      "少女時代 Listen Boy\n",
      "コブクロ 真冬の海辺に映った　\n",
      "AKB48 I want you\n",
      "AKB48 Na Na Na  \n",
      "AKB48 太陽が 昨日より 眩\n",
      "KARA ネテモサメテモスキサ\n",
      "sleep...ready?\n",
      "少女時代 TOKYO, SEO\n",
      "植村花菜 小3の頃からなぜだか\n",
      "AKB48 In your po\n",
      "ナオト・インティライミ 今キミを　今のキミを\n",
      "EXILE いつでも君の為にI \n",
      "EXILE いつでも君の為にI \n",
      "AKB48 カレンダーより早く \n",
      "sleep...ready?\n",
      "斉藤和義 地球儀を回して世界1\n",
      "宇多田ヒカル 開いたばかりの花が散\n",
      "安室奈美恵 昔からラブストーリー\n",
      "AKB48 桜の歌が街に流れ あ\n",
      "EXILE So, Rising\n",
      "GReeeeN いつのまに　忘れてた\n",
      "ゴールデンボンバー 女々しくて女々しくて\n",
      "sleep...ready?\n",
      "Ms.OOJA こんな世界で一人きり\n",
      "Superfly どれくらい感謝したっ\n",
      "ゆず 誰にも見せない泪があ\n",
      "家入レオ 夜明けを待ち続けた　\n",
      "ナオト・インティライミ 君に会いたかった　た\n",
      "AKB48 こんなに君を 好きで\n",
      "きゃりーぱみゅぱみゅ 鮮やかに　恋して　に\n",
      "sleep...ready?\n",
      "AKB48 あなたのことが好きな\n",
      "ナオト・インティライミ なぜだろう　今夜は　\n",
      "ゴールデンボンバー 女々しくて女々しくて\n",
      "ケラケラ オウベイベイベイ　今\n",
      "SEKAI NO OWARI 空は青く澄み渡り　海\n",
      "sleep...ready?\n",
      "西野カナ Oh Oh Oh…“\n",
      "きゃりーぱみゅぱみゅ おっしゃ　Let's\n",
      "安室奈美恵 昨日の君の涙 だれか\n",
      "ゆず なんて顔してしょげて\n",
      "GReeeeN 僕の隣に　いつも君が\n",
      "FUNKY MONKEY BABYS 君にどうしても 聞い\n",
      "松たか子 降り始めた雪は　足跡\n",
      "sleep...ready?\n",
      "秦基博 どうして君が泣くの　\n",
      "Rihwa 季節外れの桜の花に \n",
      "SEKAI NO OWARI 空は青く澄み渡り　海\n",
      "絢香 これからはじまるあな\n",
      "sleep...ready?\n",
      "ONE OK ROCK When we me\n",
      "シェネル 嬉しいこと　悔しいこ\n",
      "AKB48 あなたのことが好きな\n",
      "安室奈美恵 どこかでこの月を見上\n",
      "椎名林檎 万歳(Hurray)\n",
      "SEKAI NO OWARI 今宵は百万年に一度太\n",
      "sleep...ready?\n",
      "UNISON SQUARE GARDEN 超天変地異みたいな狂\n",
      "家入レオ 君の描いた　未来の中\n",
      "西野カナ 一分一秒　今この瞬間\n",
      "ゲスの極み乙女。 私以外私じゃないの \n",
      "西野カナ この度はこんな私を選\n",
      "chay あなたに恋をしてみま\n",
      "sleep...ready?\n",
      "back number 君の毎日に　僕は似合\n",
      "クマムシ 特別なスープをあなた\n",
      "Superfly 遠くに伸びる影　夜の\n",
      "西野カナ ねぇ Darling\n",
      "椎名林檎 天上天下繋ぐ花火哉 \n",
      "絢香 これからはじまるあな\n",
      "浦島太郎(桐谷健太) 空の声が　聞きたくて\n",
      "sleep...ready?\n",
      "AKB48 朝の空を見上げて 今\n",
      "RADWIMPS やっと眼を覚ましたか\n",
      "RADIO FISH 彼は言った世界は必ず\n",
      "back number どこかで鐘が鳴って \n",
      "宇多田ヒカル 普段からメイクしない\n",
      "ONE OK ROCK I'm tellin\n",
      "安室奈美恵 I'll be yo\n",
      "sleep...ready?\n",
      "コブクロ 僕が夢を忘れそうな時\n",
      "安室奈美恵 Day and ni\n",
      "JY もし　5分前に戻れる\n",
      "藤原さくら 年を取っても 皴にな\n",
      "AI 特別じゃない　英雄じ\n",
      "Flower 目が覚めればいつも　\n",
      "Perfume 花の色が　変われるほ\n",
      "星野源 営みの 街が暮れたら\n",
      "sleep...ready?\n",
      "Mr.Children どれくらいの値打ちが\n",
      "back number さよならが喉の奥につ\n",
      "RADWIMPS やっと眼を覚ましたか\n",
      "倉木麻衣 寄り添う二人に　君が\n",
      "WANIMA 正しいより　楽しい \n",
      "DAOKO×米津玄師 あの日見渡した渚を　\n",
      "シェネル 傷つくことには　慣れ\n",
      "Doughnuts Hole 真っ黒な中に一つ消え\n",
      "Beverly 聞こえないフリで　い\n",
      "sleep...ready?\n",
      "SEKAI NO OWARI 魔法は　いつか解ける\n",
      "安室奈美恵 I'll be yo\n",
      "Perfume 太陽が射しこむ街で目\n",
      "安室奈美恵 星のない世界に　たっ\n",
      "平井堅 描いた夢は叶わないこ\n",
      "Mr.Children 「雨上がりの空に七色\n",
      "宇多田ヒカル 確かな足取りで家路に\n",
      "BUMP OF CHICKEN 嵐の中をここまで来た\n",
      "米津玄師 夢ならばどれほどよか\n",
      "sleep...ready?\n",
      "DA PUMP U-U-U.S.A.\n",
      "MISIA あのね　いつの間にか\n",
      "back number 幸せとは　星が降る夜\n",
      "安室奈美恵 I'll be yo\n",
      "米津玄師 いつもどおりの通り独\n",
      "宇多田ヒカル あなたのいない世界じ\n",
      "DAOKO×米津玄師 あの日見渡した渚を　\n",
      "sleep...ready?\n",
      "Mr.Children 破り捨てようかな い\n",
      "宇多田ヒカル うるさいほどに高鳴る\n",
      "Mr.Children どれくらいの値打ちが\n",
      "家入レオ もし君を　許せたら \n",
      "米津玄師 いつか僕らの上をスレ\n",
      "back number 僕等は完全無欠じゃ無\n",
      "ONE OK ROCK If we're n\n",
      "米津玄師 夢ならばどれほどよか\n",
      "sleep...ready?\n",
      "米津玄師 歪んで傷だらけの春 \n",
      "あいみょん 風の強さがちょっと \n",
      "back number いつの間にやら日付は\n",
      "Foorin 曲りくねり　はしゃい\n",
      "Official髭男dism 君とのラブストーリー\n",
      "米津玄師 宵闇に　爪弾き　悲し\n",
      "King Gnu 時には誰かを 知らず\n",
      "MISIA あのね　いつの間にか\n",
      "LiSA 強くなれる理由を知っ\n",
      "sleep...ready?\n",
      "米津玄師 開け放たれた　この部\n",
      "RADWIMPS 何も持たずに　生まれ\n",
      "Uru 目にかかる髪の毛と \n",
      "back number よく晴れた空に　雪が\n",
      "あいみょん 北千住駅のプラットホ\n",
      "スピッツ 重い扉を押し開けたら\n",
      "Official髭男dism 心臓からあふれ出した\n",
      "DA PUMP U-U-U.S.A.\n"
     ]
    }
   ],
   "source": [
    "lyrics = []\n",
    "for count,(song, artist) in enumerate(zip(df.songs, df.artists)):\n",
    "    lyric = None\n",
    "    encode = urllib.parse.quote('%s'%song)\n",
    "    s_url = 'https://www.uta-net.com/search/?Aselect=2&Keyword=%s&Bselect=4'%encode\n",
    "    html = requests.get(s_url).text\n",
    "    splits = html.split('class=\"side td1\"')\n",
    "    if len(splits) > 1:#検索に引っかからないパターンもある．\n",
    "        url_front = 'https://www.uta-net.com'\n",
    "        for split in splits[1:]:\n",
    "            l_url = split.split('\">')[0].replace('><a href=\"','')\n",
    "            l_url = url_front + l_url\n",
    "            l_text = requests.get(l_url).text\n",
    "            if artist in l_text.split('artist_name')[1].split('\\r')[0]:\n",
    "                pattern = 'itemprop=\"text\">'\n",
    "\n",
    "                lyric = re.sub('<br />',' ',l_text.split(pattern)[1])\n",
    "                idx = lyric.find('</div>')\n",
    "                lyric = lyric[:idx]\n",
    "                print(artist,lyric[:10])\n",
    "                lyrics.append(lyric)\n",
    "            time.sleep(1)\n",
    "    \n",
    "    if lyric == None:\n",
    "        lyrics.append('')\n",
    "    time.sleep(1)\n",
    "    \n",
    "    if count%10 == 0:\n",
    "        time.sleep(2)\n",
    "        print('sleep...ready?')"
   ]
  },
  {
   "cell_type": "code",
   "execution_count": 110,
   "metadata": {},
   "outputs": [],
   "source": [
    "df_lyrics = pd.DataFrame({'lyrics':lyrics})"
   ]
  },
  {
   "cell_type": "code",
   "execution_count": 111,
   "metadata": {},
   "outputs": [],
   "source": [
    "#df_lyrics.to_csv('df_lyrics.csv',index=None)"
   ]
  },
  {
   "cell_type": "code",
   "execution_count": 17,
   "metadata": {},
   "outputs": [],
   "source": [
    "df_lyrics = pd.read_csv('df_lyrics.csv')"
   ]
  },
  {
   "cell_type": "markdown",
   "metadata": {},
   "source": [
    " "
   ]
  },
  {
   "cell_type": "code",
   "execution_count": 18,
   "metadata": {},
   "outputs": [
    {
     "data": {
      "text/html": [
       "<div>\n",
       "<style scoped>\n",
       "    .dataframe tbody tr th:only-of-type {\n",
       "        vertical-align: middle;\n",
       "    }\n",
       "\n",
       "    .dataframe tbody tr th {\n",
       "        vertical-align: top;\n",
       "    }\n",
       "\n",
       "    .dataframe thead th {\n",
       "        text-align: right;\n",
       "    }\n",
       "</style>\n",
       "<table border=\"1\" class=\"dataframe\">\n",
       "  <thead>\n",
       "    <tr style=\"text-align: right;\">\n",
       "      <th></th>\n",
       "      <th>year</th>\n",
       "      <th>order</th>\n",
       "      <th>artists</th>\n",
       "      <th>songs</th>\n",
       "    </tr>\n",
       "  </thead>\n",
       "  <tbody>\n",
       "    <tr>\n",
       "      <th>9</th>\n",
       "      <td>2010</td>\n",
       "      <td>10</td>\n",
       "      <td>EXILE</td>\n",
       "      <td>もっと強く</td>\n",
       "    </tr>\n",
       "    <tr>\n",
       "      <th>16</th>\n",
       "      <td>2011</td>\n",
       "      <td>17</td>\n",
       "      <td>EXILE</td>\n",
       "      <td>I Wish For You</td>\n",
       "    </tr>\n",
       "    <tr>\n",
       "      <th>7</th>\n",
       "      <td>2012</td>\n",
       "      <td>8</td>\n",
       "      <td>EXILE</td>\n",
       "      <td>Rising Sun</td>\n",
       "    </tr>\n",
       "  </tbody>\n",
       "</table>\n",
       "</div>"
      ],
      "text/plain": [
       "    year  order artists           songs\n",
       "9   2010     10   EXILE           もっと強く\n",
       "16  2011     17   EXILE  I Wish For You\n",
       "7   2012      8   EXILE      Rising Sun"
      ]
     },
     "execution_count": 18,
     "metadata": {},
     "output_type": "execute_result"
    }
   ],
   "source": [
    "df[df.artists=='EXILE']"
   ]
  },
  {
   "cell_type": "markdown",
   "metadata": {},
   "source": [
    "exile ,いつでも君の為にI...のやつが被っている"
   ]
  },
  {
   "cell_type": "code",
   "execution_count": 19,
   "metadata": {},
   "outputs": [
    {
     "data": {
      "text/html": [
       "<div>\n",
       "<style scoped>\n",
       "    .dataframe tbody tr th:only-of-type {\n",
       "        vertical-align: middle;\n",
       "    }\n",
       "\n",
       "    .dataframe tbody tr th {\n",
       "        vertical-align: top;\n",
       "    }\n",
       "\n",
       "    .dataframe thead th {\n",
       "        text-align: right;\n",
       "    }\n",
       "</style>\n",
       "<table border=\"1\" class=\"dataframe\">\n",
       "  <thead>\n",
       "    <tr style=\"text-align: right;\">\n",
       "      <th></th>\n",
       "      <th>lyrics</th>\n",
       "    </tr>\n",
       "  </thead>\n",
       "  <tbody>\n",
       "    <tr>\n",
       "      <th>36</th>\n",
       "      <td>いつでも君の為にI wish 幸せを願う事こそが愛 夢を見れば恋をすれば 誰にでも悩める日が...</td>\n",
       "    </tr>\n",
       "    <tr>\n",
       "      <th>37</th>\n",
       "      <td>いつでも君の為にI wish 幸せを願う事こそが愛 夢を見れば恋をすれば 誰にでも悩める日が...</td>\n",
       "    </tr>\n",
       "  </tbody>\n",
       "</table>\n",
       "</div>"
      ],
      "text/plain": [
       "                                               lyrics\n",
       "36  いつでも君の為にI wish 幸せを願う事こそが愛 夢を見れば恋をすれば 誰にでも悩める日が...\n",
       "37  いつでも君の為にI wish 幸せを願う事こそが愛 夢を見れば恋をすれば 誰にでも悩める日が..."
      ]
     },
     "execution_count": 19,
     "metadata": {},
     "output_type": "execute_result"
    }
   ],
   "source": [
    "df_lyrics[df_lyrics.lyrics.str.contains('いつでも君の為にI') == True]"
   ]
  },
  {
   "cell_type": "code",
   "execution_count": 20,
   "metadata": {},
   "outputs": [],
   "source": [
    "df_lyrics_drop = df_lyrics.drop(36,axis=0).copy()"
   ]
  },
  {
   "cell_type": "code",
   "execution_count": 21,
   "metadata": {},
   "outputs": [],
   "source": [
    "df['lyrics'] = df_lyrics_drop['lyrics'].to_list()"
   ]
  },
  {
   "cell_type": "code",
   "execution_count": 23,
   "metadata": {},
   "outputs": [],
   "source": [
    "df.to_csv('j_pop_songs.csv',index=None)"
   ]
  },
  {
   "cell_type": "code",
   "execution_count": 2,
   "metadata": {},
   "outputs": [],
   "source": [
    "df = pd.read_csv('j_pop_songs.csv')"
   ]
  },
  {
   "cell_type": "code",
   "execution_count": 3,
   "metadata": {},
   "outputs": [
    {
     "data": {
      "text/html": [
       "<div>\n",
       "<style scoped>\n",
       "    .dataframe tbody tr th:only-of-type {\n",
       "        vertical-align: middle;\n",
       "    }\n",
       "\n",
       "    .dataframe tbody tr th {\n",
       "        vertical-align: top;\n",
       "    }\n",
       "\n",
       "    .dataframe thead th {\n",
       "        text-align: right;\n",
       "    }\n",
       "</style>\n",
       "<table border=\"1\" class=\"dataframe\">\n",
       "  <thead>\n",
       "    <tr style=\"text-align: right;\">\n",
       "      <th></th>\n",
       "      <th>year</th>\n",
       "      <th>order</th>\n",
       "      <th>artists</th>\n",
       "      <th>songs</th>\n",
       "      <th>lyrics</th>\n",
       "    </tr>\n",
       "  </thead>\n",
       "  <tbody>\n",
       "    <tr>\n",
       "      <th>0</th>\n",
       "      <td>2010</td>\n",
       "      <td>1</td>\n",
       "      <td>木村カエラ</td>\n",
       "      <td>Butterfly</td>\n",
       "      <td>Butterfly　今日は今までの　どんな時より　素晴らしい 赤い糸でむすばれてく　光の輪の...</td>\n",
       "    </tr>\n",
       "    <tr>\n",
       "      <th>1</th>\n",
       "      <td>2010</td>\n",
       "      <td>2</td>\n",
       "      <td>Superfly</td>\n",
       "      <td>タマシイレボリューション</td>\n",
       "      <td>スタンドアップ!モンスター　頂上へ 道なき道を　切り開く時 スタンドアップ!ファイター　とん...</td>\n",
       "    </tr>\n",
       "    <tr>\n",
       "      <th>2</th>\n",
       "      <td>2010</td>\n",
       "      <td>3</td>\n",
       "      <td>AKB48</td>\n",
       "      <td>ポニーテールとシュシュ</td>\n",
       "      <td>カレンダーより早く シャツの袖口まくって 太陽が近づく気配 僕の腕から衣替え  青い海 波打...</td>\n",
       "    </tr>\n",
       "    <tr>\n",
       "      <th>3</th>\n",
       "      <td>2010</td>\n",
       "      <td>4</td>\n",
       "      <td>斉藤 和義</td>\n",
       "      <td>ずっと好きだった</td>\n",
       "      <td>NaN</td>\n",
       "    </tr>\n",
       "    <tr>\n",
       "      <th>4</th>\n",
       "      <td>2010</td>\n",
       "      <td>5</td>\n",
       "      <td>AKB48</td>\n",
       "      <td>ヘビーローテーション</td>\n",
       "      <td>I want you! I need you! I love you! 頭の中 ガンガン鳴っ...</td>\n",
       "    </tr>\n",
       "  </tbody>\n",
       "</table>\n",
       "</div>"
      ],
      "text/plain": [
       "   year  order   artists         songs  \\\n",
       "0  2010      1     木村カエラ     Butterfly   \n",
       "1  2010      2  Superfly  タマシイレボリューション   \n",
       "2  2010      3     AKB48   ポニーテールとシュシュ   \n",
       "3  2010      4     斉藤 和義      ずっと好きだった   \n",
       "4  2010      5     AKB48    ヘビーローテーション   \n",
       "\n",
       "                                              lyrics  \n",
       "0  Butterfly　今日は今までの　どんな時より　素晴らしい 赤い糸でむすばれてく　光の輪の...  \n",
       "1  スタンドアップ!モンスター　頂上へ 道なき道を　切り開く時 スタンドアップ!ファイター　とん...  \n",
       "2  カレンダーより早く シャツの袖口まくって 太陽が近づく気配 僕の腕から衣替え  青い海 波打...  \n",
       "3                                                NaN  \n",
       "4  I want you! I need you! I love you! 頭の中 ガンガン鳴っ...  "
      ]
     },
     "execution_count": 3,
     "metadata": {},
     "output_type": "execute_result"
    }
   ],
   "source": [
    "df.head()"
   ]
  },
  {
   "cell_type": "code",
   "execution_count": null,
   "metadata": {},
   "outputs": [],
   "source": []
  }
 ],
 "metadata": {
  "kernelspec": {
   "display_name": "Python 3",
   "language": "python",
   "name": "python3"
  },
  "language_info": {
   "codemirror_mode": {
    "name": "ipython",
    "version": 3
   },
   "file_extension": ".py",
   "mimetype": "text/x-python",
   "name": "python",
   "nbconvert_exporter": "python",
   "pygments_lexer": "ipython3",
   "version": "3.7.1"
  }
 },
 "nbformat": 4,
 "nbformat_minor": 4
}
